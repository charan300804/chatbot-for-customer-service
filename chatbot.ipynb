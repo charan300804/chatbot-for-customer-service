{
  "cells": [
    {
      "cell_type": "markdown",
      "metadata": {
        "colab_type": "text",
        "id": "view-in-github"
      },
      "source": [
        "<a href=\"https://colab.research.google.com/github/MariamTawfiq/ChatBot/blob/main/chatbot.ipynb\" target=\"_parent\"><img src=\"https://colab.research.google.com/assets/colab-badge.svg\" alt=\"Open In Colab\"/></a>"
      ]
    },
    {
      "cell_type": "code",
      "execution_count": 29,
      "metadata": {
        "id": "5iNIkcKzpWgc"
      },
      "outputs": [],
      "source": [
        "#import necessary libraries\n",
        "import numpy as np\n",
        "import json\n",
        "import random\n",
        "from nltk.tokenize import word_tokenize\n",
        "from nltk.stem import WordNetLemmatizer\n",
        "import tensorflow as tf"
      ]
    },
    {
      "cell_type": "code",
      "execution_count": 30,
      "metadata": {
        "id": "Nwo3zFiVpme5"
      },
      "outputs": [],
      "source": [
        "# Load the intents from the JSON file\n",
        "with open('intents.json', 'r') as file:\n",
        "    intents = json.load(file)['intents']"
      ]
    },
    {
      "cell_type": "code",
      "execution_count": 31,
      "metadata": {
        "id": "RY95-aw3pqPb"
      },
      "outputs": [],
      "source": [
        "# Initialize the lemmatizer and tokenizer\n",
        "lemmatizer = WordNetLemmatizer()\n",
        "tokenizer = word_tokenize\n",
        "# Create a list of all words in the intents, and a list of all intents\n",
        "words = []\n",
        "classes = []\n",
        "documents = []\n",
        "for intent in intents:\n",
        "    for pattern in intent['patterns']:\n",
        "        # Tokenize and lemmatize each word in the pattern\n",
        "        words_in_pattern = tokenizer(pattern.lower())\n",
        "        words_in_pattern = [lemmatizer.lemmatize(word) for word in words_in_pattern]\n",
        "        # Add the words to the list of all words\n",
        "        words.extend(words_in_pattern)\n",
        "        # Add the pattern and intent to the list of all documents\n",
        "        documents.append((words_in_pattern, intent['tag']))\n",
        "        # Add the intent to the list of all intents\n",
        "        if intent['tag'] not in classes:\n",
        "            classes.append(intent['tag'])"
      ]
    },
    {
      "cell_type": "code",
      "execution_count": 32,
      "metadata": {
        "id": "eAhXZ4c3ptXN"
      },
      "outputs": [],
      "source": [
        "# Remove duplicates and sort the words and classes\n",
        "words = sorted(list(set(words)))\n",
        "classes = sorted(classes)"
      ]
    },
    {
      "cell_type": "code",
      "execution_count": 33,
      "metadata": {
        "id": "a_eIAhQ5pvbC"
      },
      "outputs": [],
      "source": [
        "# Create training data as a bag of words\n",
        "training_data = []\n",
        "for document in documents:\n",
        "    bag = []\n",
        "    # Create a bag of words for each document\n",
        "    for word in words:\n",
        "        bag.append(1) if word in document[0] else bag.append(0)\n",
        "    # Append the bag of words and the intent tag to the training data\n",
        "    output_row = [0] * len(classes)\n",
        "    output_row[classes.index(document[1])] = 1\n",
        "    training_data.append([bag, output_row])"
      ]
    },
    {
      "cell_type": "code",
      "execution_count": 34,
      "metadata": {
        "id": "iRgiwTO-p1GK"
      },
      "outputs": [],
      "source": [
        "# Shuffle the training data and split it into input and output lists\n",
        "random.shuffle(training_data)\n",
        "training_data = np.array(training_data, dtype=object)\n",
        "train_x = list(training_data[:, 0])\n",
        "train_y = list(training_data[:, 1])"
      ]
    },
    {
      "cell_type": "code",
      "execution_count": 35,
      "metadata": {
        "id": "BfMnDZTIp215"
      },
      "outputs": [],
      "source": [
        "# Define the neural network model\n",
        "model = tf.keras.Sequential([\n",
        "    tf.keras.layers.Dense(128, input_shape=(len(train_x[0]),), activation='relu'),\n",
        "    tf.keras.layers.Dropout(0.5),\n",
        "    tf.keras.layers.Dense(64, activation='relu'),\n",
        "    tf.keras.layers.Dropout(0.5),\n",
        "    tf.keras.layers.Dense(len(train_y[0]), activation='softmax')\n",
        "])"
      ]
    },
    {
      "cell_type": "code",
      "execution_count": null,
      "metadata": {
        "colab": {
          "base_uri": "https://localhost:8080/"
        },
        "id": "_s3CSYivp6lt",
        "outputId": "0dfe205d-2f0d-4de4-83d2-27dd9aaa1fd5"
      },
      "outputs": [],
      "source": [
        "# Compile the model\n",
        "model.compile(loss='categorical_crossentropy', optimizer='adam', metrics=['accuracy'])\n",
        "\n",
        "# Train the model\n",
        "model.fit(np.array(train_x), np.array(train_y), epochs=200, batch_size=5)\n"
      ]
    },
    {
      "cell_type": "code",
      "execution_count": null,
      "metadata": {
        "colab": {
          "base_uri": "https://localhost:8080/"
        },
        "id": "hghjs5hvp-2H",
        "outputId": "7767068a-f71a-4bc0-bd7e-67989c2d1984"
      },
      "outputs": [],
      "source": [
        "# Define a function to process user input and generate a response\n",
        "def get_response(user_input):\n",
        "    # Tokenize and lemmatize the user input\n",
        "    words_in_input = tokenizer(user_input.lower())\n",
        "    words_in_input = [lemmatizer.lemmatize(word) for word in words_in_input]\n",
        "    \n",
        "    # Create a bag of words for the user input\n",
        "    bag = [0] * len(words)\n",
        "    for word in words_in_input:\n",
        "        for i, w in enumerate(words):\n",
        "            if w == word:\n",
        "                bag[i] = 1\n",
        "    \n",
        "    # Predict the intent of the user input using the trained model\n",
        "    results = model.predict(np.array([bag]), verbose=0)[0]\n",
        "    # Get the index of the highest probability result\n",
        "    index = np.argmax(results)\n",
        "    # Get the corresponding intent tag\n",
        "    tag = classes[index]\n",
        "    \n",
        "    # If the probability of the predicted intent is below a certain threshold, return a default response\n",
        "    if results[index] < 0.5:\n",
        "        return \"I'm sorry, I don't understand. Can you please rephrase?\"\n",
        "    \n",
        "    # Get a random response from the intent\n",
        "    for intent in intents:\n",
        "        if intent['tag'] == tag:\n",
        "            response = random.choice(intent['responses'])\n",
        "    \n",
        "    return response\n",
        "\n",
        "# Main loop to get user input and generate responses\n",
        "while True:\n",
        "    user_input = input(\"You: \")\n",
        "    if user_input.lower() == \"quit\":\n",
        "            break\n",
        "    response = get_response(user_input)\n",
        "    print(\"RaMona:\", response)\n"
      ]
    }
  ],
  "metadata": {
    "colab": {
      "authorship_tag": "ABX9TyMlzafQlm9sEsW8HBDyFMvb",
      "include_colab_link": true,
      "provenance": []
    },
    "kernelspec": {
      "display_name": "base",
      "language": "python",
      "name": "python3"
    },
    "language_info": {
      "codemirror_mode": {
        "name": "ipython",
        "version": 3
      },
      "file_extension": ".py",
      "mimetype": "text/x-python",
      "name": "python",
      "nbconvert_exporter": "python",
      "pygments_lexer": "ipython3",
      "version": "3.12.7"
    }
  },
  "nbformat": 4,
  "nbformat_minor": 0
}
